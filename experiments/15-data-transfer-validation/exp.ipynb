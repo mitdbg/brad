{
 "cells": [
  {
   "cell_type": "markdown",
   "metadata": {},
   "source": [
    "## Data transfer validation\n",
    "\n",
    "Validate that our modeling approach for data transfer performance between S3 and Redshift/Aurora (bytes / transfer speed) is accurate across table scales"
   ]
  },
  {
   "cell_type": "markdown",
   "metadata": {},
   "source": []
  }
 ],
 "metadata": {
  "language_info": {
   "name": "python"
  },
  "orig_nbformat": 4
 },
 "nbformat": 4,
 "nbformat_minor": 2
}
